{
 "cells": [
  {
   "cell_type": "code",
   "execution_count": 2,
   "metadata": {},
   "outputs": [],
   "source": [
    "import pandas as pd\n",
    "import numpy as np\n",
    "import matplotlib.pyplot as plt\n"
   ]
  },
  {
   "cell_type": "code",
   "execution_count": 66,
   "metadata": {},
   "outputs": [
    {
     "name": "stdout",
     "output_type": "stream",
     "text": [
      "<class 'pandas.core.frame.DataFrame'>\n",
      "RangeIndex: 142193 entries, 0 to 142192\n",
      "Data columns (total 24 columns):\n",
      "Date             142193 non-null object\n",
      "Location         142193 non-null object\n",
      "MinTemp          141556 non-null float64\n",
      "MaxTemp          141871 non-null float64\n",
      "Rainfall         140787 non-null float64\n",
      "Evaporation      81350 non-null float64\n",
      "Sunshine         74377 non-null float64\n",
      "WindGustDir      132863 non-null object\n",
      "WindGustSpeed    132923 non-null float64\n",
      "WindDir9am       132180 non-null object\n",
      "WindDir3pm       138415 non-null object\n",
      "WindSpeed9am     140845 non-null float64\n",
      "WindSpeed3pm     139563 non-null float64\n",
      "Humidity9am      140419 non-null float64\n",
      "Humidity3pm      138583 non-null float64\n",
      "Pressure9am      128179 non-null float64\n",
      "Pressure3pm      128212 non-null float64\n",
      "Cloud9am         88536 non-null float64\n",
      "Cloud3pm         85099 non-null float64\n",
      "Temp9am          141289 non-null float64\n",
      "Temp3pm          139467 non-null float64\n",
      "RainToday        140787 non-null object\n",
      "RISK_MM          142193 non-null float64\n",
      "RainTomorrow     142193 non-null object\n",
      "dtypes: float64(17), object(7)\n",
      "memory usage: 26.0+ MB\n"
     ]
    }
   ],
   "source": [
    "df = pd.read_csv('weatherAUS.csv')\n",
    "df.info()"
   ]
  },
  {
   "cell_type": "code",
   "execution_count": 67,
   "metadata": {},
   "outputs": [
    {
     "name": "stdout",
     "output_type": "stream",
     "text": [
      "<class 'pandas.core.frame.DataFrame'>\n",
      "RangeIndex: 142193 entries, 0 to 142192\n",
      "Data columns (total 28 columns):\n",
      "Date             142193 non-null datetime64[ns]\n",
      "Location         142193 non-null object\n",
      "MinTemp          141556 non-null float64\n",
      "MaxTemp          141871 non-null float64\n",
      "Rainfall         140787 non-null float64\n",
      "Evaporation      81350 non-null float64\n",
      "Sunshine         74377 non-null float64\n",
      "WindGustDir      132863 non-null object\n",
      "WindGustSpeed    132923 non-null float64\n",
      "WindDir9am       132180 non-null object\n",
      "WindDir3pm       138415 non-null object\n",
      "WindSpeed9am     140845 non-null float64\n",
      "WindSpeed3pm     139563 non-null float64\n",
      "Humidity9am      140419 non-null float64\n",
      "Humidity3pm      138583 non-null float64\n",
      "Pressure9am      128179 non-null float64\n",
      "Pressure3pm      128212 non-null float64\n",
      "Cloud9am         88536 non-null float64\n",
      "Cloud3pm         85099 non-null float64\n",
      "Temp9am          141289 non-null float64\n",
      "Temp3pm          139467 non-null float64\n",
      "RainToday        140787 non-null object\n",
      "RISK_MM          142193 non-null float64\n",
      "RainTomorrow     142193 non-null object\n",
      "year             142193 non-null int64\n",
      "quarter          142193 non-null int64\n",
      "month            142193 non-null int64\n",
      "day              142193 non-null int64\n",
      "dtypes: datetime64[ns](1), float64(17), int64(4), object(6)\n",
      "memory usage: 30.4+ MB\n"
     ]
    }
   ],
   "source": [
    "#добавляем новые колонки связанные с датой\n",
    "df.Date = pd.to_datetime(df.Date)\n",
    "\n",
    "def date_features(df):\n",
    "    df[\"year\"] = df.Date.apply(lambda s: s.year)\n",
    "    df[\"quarter\"] = df.Date.apply(lambda s: s.quarter)\n",
    "    df[\"month\"] = df.Date.apply(lambda s: s.month)\n",
    "    #df[\"week\"] = df.date.apply(lambda s: s.week)\n",
    "    df[\"day\"] = df.Date.apply(lambda s: s.day)\n",
    "    #df[\"dayofweek\"] = df.date.apply(lambda s: s.dayofweek)  \n",
    "    return df\n",
    "\n",
    "df = date_features(df)\n",
    "df.info()"
   ]
  },
  {
   "cell_type": "code",
   "execution_count": 68,
   "metadata": {},
   "outputs": [],
   "source": [
    "df.drop(['Date'], axis='columns', inplace=True)"
   ]
  },
  {
   "cell_type": "code",
   "execution_count": 69,
   "metadata": {},
   "outputs": [
    {
     "data": {
      "text/plain": [
       "(array(['Albury', 'BadgerysCreek', 'Cobar', 'CoffsHarbour', 'Moree',\n",
       "        'Newcastle', 'NorahHead', 'NorfolkIsland', 'Penrith', 'Richmond',\n",
       "        'Sydney', 'SydneyAirport', 'WaggaWagga', 'Williamtown',\n",
       "        'Wollongong', 'Canberra', 'Tuggeranong', 'MountGinini', 'Ballarat',\n",
       "        'Bendigo', 'Sale', 'MelbourneAirport', 'Melbourne', 'Mildura',\n",
       "        'Nhil', 'Portland', 'Watsonia', 'Dartmoor', 'Brisbane', 'Cairns',\n",
       "        'GoldCoast', 'Townsville', 'Adelaide', 'MountGambier', 'Nuriootpa',\n",
       "        'Woomera', 'Albany', 'Witchcliffe', 'PearceRAAF', 'PerthAirport',\n",
       "        'Perth', 'SalmonGums', 'Walpole', 'Hobart', 'Launceston',\n",
       "        'AliceSprings', 'Darwin', 'Katherine', 'Uluru'], dtype=object),\n",
       " array(['W', 'WNW', 'WSW', 'NE', 'NNW', 'N', 'NNE', 'SW', 'ENE', 'SSE',\n",
       "        'S', 'NW', 'SE', 'ESE', nan, 'E', 'SSW'], dtype=object),\n",
       " array(['WNW', 'WSW', 'E', 'NW', 'W', 'SSE', 'ESE', 'ENE', 'NNW', 'SSW',\n",
       "        'SW', 'SE', 'N', 'S', 'NNE', nan, 'NE'], dtype=object),\n",
       " array(['W', 'NNW', 'SE', 'ENE', 'SW', 'SSE', 'S', 'NE', nan, 'SSW', 'N',\n",
       "        'WSW', 'ESE', 'E', 'NW', 'WNW', 'NNE'], dtype=object),\n",
       " array(['No', 'Yes', nan], dtype=object),\n",
       " array(['No', 'Yes'], dtype=object))"
      ]
     },
     "execution_count": 69,
     "metadata": {},
     "output_type": "execute_result"
    }
   ],
   "source": [
    "df.Location.unique(), df.WindGustDir.unique(), df.WindDir3pm.unique(), df.WindDir9am.unique(), df.RainToday.unique(), df.RainTomorrow.unique()"
   ]
  },
  {
   "cell_type": "code",
   "execution_count": 70,
   "metadata": {},
   "outputs": [
    {
     "data": {
      "text/plain": [
       "(array(['Albury', 'BadgerysCreek', 'Cobar', 'CoffsHarbour', 'Moree',\n",
       "        'Newcastle', 'NorahHead', 'NorfolkIsland', 'Penrith', 'Richmond',\n",
       "        'Sydney', 'SydneyAirport', 'WaggaWagga', 'Williamtown',\n",
       "        'Wollongong', 'Canberra', 'Tuggeranong', 'MountGinini', 'Ballarat',\n",
       "        'Bendigo', 'Sale', 'MelbourneAirport', 'Melbourne', 'Mildura',\n",
       "        'Nhil', 'Portland', 'Watsonia', 'Dartmoor', 'Brisbane', 'Cairns',\n",
       "        'GoldCoast', 'Townsville', 'Adelaide', 'MountGambier', 'Nuriootpa',\n",
       "        'Woomera', 'Albany', 'Witchcliffe', 'PearceRAAF', 'PerthAirport',\n",
       "        'Perth', 'SalmonGums', 'Walpole', 'Hobart', 'Launceston',\n",
       "        'AliceSprings', 'Darwin', 'Katherine', 'Uluru'], dtype=object),\n",
       " array([ 0.,  1.,  2.,  3.,  4.,  5.,  6.,  7.,  8.,  9., 10., 11., 12.,\n",
       "        13., nan, 14., 15.]),\n",
       " array([ 1.,  2., 14., 11.,  0.,  9., 13.,  8.,  4., 15.,  7., 12.,  5.,\n",
       "        10.,  6., nan,  3.]),\n",
       " array([ 0.,  4., 12.,  8.,  7.,  9., 10.,  3., nan, 15.,  5.,  2., 13.,\n",
       "        14., 11.,  1.,  6.]),\n",
       " array([ 0.,  1., nan]),\n",
       " array([0, 1], dtype=int64))"
      ]
     },
     "execution_count": 70,
     "metadata": {},
     "output_type": "execute_result"
    }
   ],
   "source": [
    "d1 = {'W':0, 'WNW':1, 'WSW':2, 'NE':3, 'NNW':4, 'N':5, 'NNE':6, 'SW':7, 'ENE':8, 'SSE':9, 'S':10, \n",
    "      'NW':11, 'SE':12, 'ESE':13, 'E':14, 'SSW':15}\n",
    "df['WindGustDir'] = df['WindGustDir'].map(d1)\n",
    "d2 = {'W':0, 'WNW':1, 'WSW':2, 'NE':3, 'NNW':4, 'N':5, 'NNE':6, 'SW':7, 'ENE':8, 'SSE':9, 'S':10, \n",
    "      'NW':11, 'SE':12, 'ESE':13, 'E':14, 'SSW':15}\n",
    "df['WindDir3pm'] = df['WindDir3pm'].map(d2)\n",
    "d3 = {'W':0, 'WNW':1, 'WSW':2, 'NE':3, 'NNW':4, 'N':5, 'NNE':6, 'SW':7, 'ENE':8, 'SSE':9, 'S':10, \n",
    "      'NW':11, 'SE':12, 'ESE':13, 'E':14, 'SSW':15}\n",
    "df['WindDir9am'] = df['WindDir9am'].map(d3)\n",
    "d4 = {'No':0, 'Yes':1}\n",
    "df['RainToday'] = df['RainToday'].map(d4)\n",
    "d5 = {'No':0, 'Yes':1}\n",
    "df['RainTomorrow'] = df['RainTomorrow'].map(d5)\n",
    "\n",
    "df.Location.unique(), df.WindGustDir.unique(), df.WindDir3pm.unique(), df.WindDir9am.unique(), df.RainToday.unique(), df.RainTomorrow.unique()"
   ]
  },
  {
   "cell_type": "code",
   "execution_count": 71,
   "metadata": {},
   "outputs": [
    {
     "data": {
      "text/plain": [
       "(array(['Albury', 'BadgerysCreek', 'Cobar', 'CoffsHarbour', 'Moree',\n",
       "        'Newcastle', 'NorahHead', 'NorfolkIsland', 'Penrith', 'Richmond',\n",
       "        'Sydney', 'SydneyAirport', 'WaggaWagga', 'Williamtown',\n",
       "        'Wollongong', 'Canberra', 'Tuggeranong', 'MountGinini', 'Ballarat',\n",
       "        'Bendigo', 'Sale', 'MelbourneAirport', 'Melbourne', 'Mildura',\n",
       "        'Nhil', 'Portland', 'Watsonia', 'Dartmoor', 'Brisbane', 'Cairns',\n",
       "        'GoldCoast', 'Townsville', 'Adelaide', 'MountGambier', 'Nuriootpa',\n",
       "        'Woomera', 'Albany', 'Witchcliffe', 'PearceRAAF', 'PerthAirport',\n",
       "        'Perth', 'SalmonGums', 'Walpole', 'Hobart', 'Launceston',\n",
       "        'AliceSprings', 'Darwin', 'Katherine', 'Uluru'], dtype=object),\n",
       " array([ 0.,  1.,  2.,  3.,  4.,  5.,  6.,  7.,  8.,  9., 10., 11., 12.,\n",
       "        13., 16., 14., 15.]),\n",
       " array([ 1.,  2., 14., 11.,  0.,  9., 13.,  8.,  4., 15.,  7., 12.,  5.,\n",
       "        10.,  6., 16.,  3.]),\n",
       " array([ 0.,  4., 12.,  8.,  7.,  9., 10.,  3., 16., 15.,  5.,  2., 13.,\n",
       "        14., 11.,  1.,  6.]),\n",
       " array([0., 1., 2.]),\n",
       " array([0, 1], dtype=int64))"
      ]
     },
     "execution_count": 71,
     "metadata": {},
     "output_type": "execute_result"
    }
   ],
   "source": [
    "df['WindGustDir'].fillna(16, inplace=True)\n",
    "df['WindDir3pm'].fillna(16, inplace=True)\n",
    "df['WindDir9am'].fillna(16, inplace=True)\n",
    "df['RainToday'].fillna(2, inplace=True)\n",
    "df.Location.unique(), df.WindGustDir.unique(), df.WindDir3pm.unique(), df.WindDir9am.unique(), df.RainToday.unique(), df.RainTomorrow.unique()"
   ]
  },
  {
   "cell_type": "code",
   "execution_count": 72,
   "metadata": {},
   "outputs": [
    {
     "data": {
      "text/plain": [
       "<matplotlib.axes._subplots.AxesSubplot at 0x1ee80301e80>"
      ]
     },
     "execution_count": 72,
     "metadata": {},
     "output_type": "execute_result"
    },
    {
     "data": {
      "image/png": "[encoded data removed]",
      "text/plain": [
       "<Figure size 1008x360 with 2 Axes>"
      ]
     },
     "metadata": {
      "needs_background": "light"
     },
     "output_type": "display_data"
    }
   ],
   "source": [
    "#Тепловая карта\n",
    "import matplotlib.pyplot as plt\n",
    "import seaborn as sns\n",
    "fig = plt.figure(figsize= (14,5))\n",
    "sns.heatmap(df.dropna().corr(), cmap = 'Blues')"
   ]
  },
  {
   "cell_type": "code",
   "execution_count": 73,
   "metadata": {},
   "outputs": [
    {
     "name": "stdout",
     "output_type": "stream",
     "text": [
      "<class 'pandas.core.frame.DataFrame'>\n",
      "RangeIndex: 142193 entries, 0 to 142192\n",
      "Data columns (total 20 columns):\n",
      "MinTemp          141556 non-null float64\n",
      "MaxTemp          141871 non-null float64\n",
      "Rainfall         140787 non-null float64\n",
      "WindGustDir      142193 non-null float64\n",
      "WindGustSpeed    132923 non-null float64\n",
      "WindDir3pm       142193 non-null float64\n",
      "WindSpeed9am     140845 non-null float64\n",
      "WindSpeed3pm     139563 non-null float64\n",
      "Humidity9am      140419 non-null float64\n",
      "Humidity3pm      138583 non-null float64\n",
      "Cloud9am         88536 non-null float64\n",
      "Cloud3pm         85099 non-null float64\n",
      "Temp9am          141289 non-null float64\n",
      "RainToday        142193 non-null float64\n",
      "RISK_MM          142193 non-null float64\n",
      "RainTomorrow     142193 non-null int64\n",
      "year             142193 non-null int64\n",
      "quarter          142193 non-null int64\n",
      "month            142193 non-null int64\n",
      "day              142193 non-null int64\n",
      "dtypes: float64(15), int64(5)\n",
      "memory usage: 21.7 MB\n"
     ]
    }
   ],
   "source": [
    "df.drop(['Location', 'Sunshine', 'Pressure9am', 'Pressure3pm', 'Temp3pm', 'WindDir9am', 'Evaporation'], axis='columns', inplace=True)\n",
    "df.info()"
   ]
  },
  {
   "cell_type": "code",
   "execution_count": 74,
   "metadata": {},
   "outputs": [
    {
     "name": "stdout",
     "output_type": "stream",
     "text": [
      "<class 'pandas.core.frame.DataFrame'>\n",
      "RangeIndex: 142193 entries, 0 to 142192\n",
      "Data columns (total 20 columns):\n",
      "MinTemp          141556 non-null float32\n",
      "MaxTemp          141871 non-null float32\n",
      "Rainfall         140787 non-null float32\n",
      "WindGustDir      142193 non-null float32\n",
      "WindGustSpeed    132923 non-null float32\n",
      "WindDir3pm       142193 non-null float32\n",
      "WindSpeed9am     140845 non-null float32\n",
      "WindSpeed3pm     139563 non-null float32\n",
      "Humidity9am      140419 non-null float32\n",
      "Humidity3pm      138583 non-null float32\n",
      "Cloud9am         88536 non-null float32\n",
      "Cloud3pm         85099 non-null float32\n",
      "Temp9am          141289 non-null float32\n",
      "RainToday        142193 non-null int32\n",
      "RISK_MM          142193 non-null float32\n",
      "RainTomorrow     142193 non-null int32\n",
      "year             142193 non-null int32\n",
      "quarter          142193 non-null int32\n",
      "month            142193 non-null int32\n",
      "day              142193 non-null int32\n",
      "dtypes: float32(14), int32(6)\n",
      "memory usage: 10.8 MB\n"
     ]
    }
   ],
   "source": [
    "#изменение размера занимаемой памяти\n",
    "df = df.astype('float32')\n",
    "\n",
    "df['RainToday'] = df['RainToday'].astype('int32')\n",
    "df['RainTomorrow'] = df['RainTomorrow'].astype('int32')\n",
    "df['year'] = df['year'].astype('int32')\n",
    "df['quarter'] = df['quarter'].astype('int32')\n",
    "df['month'] = df['month'].astype('int32')\n",
    "df['day'] = df['day'].astype('int32')\n",
    "\n",
    "df.info()"
   ]
  },
  {
   "cell_type": "code",
   "execution_count": 84,
   "metadata": {
    "scrolled": true
   },
   "outputs": [],
   "source": [
    "df.dropna(subset = ['Cloud3pm', 'Cloud9am'], inplace=True)"
   ]
  },
  {
   "cell_type": "code",
   "execution_count": 93,
   "metadata": {},
   "outputs": [],
   "source": [
    "df.dropna(inplace=True)"
   ]
  },
  {
   "cell_type": "code",
   "execution_count": 94,
   "metadata": {},
   "outputs": [
    {
     "name": "stdout",
     "output_type": "stream",
     "text": [
      "<class 'pandas.core.frame.DataFrame'>\n",
      "Int64Index: 74097 entries, 4 to 142192\n",
      "Data columns (total 20 columns):\n",
      "MinTemp          74097 non-null float32\n",
      "MaxTemp          74097 non-null float32\n",
      "Rainfall         74097 non-null float32\n",
      "WindGustDir      74097 non-null float32\n",
      "WindGustSpeed    74097 non-null float32\n",
      "WindDir3pm       74097 non-null float32\n",
      "WindSpeed9am     74097 non-null float32\n",
      "WindSpeed3pm     74097 non-null float32\n",
      "Humidity9am      74097 non-null float32\n",
      "Humidity3pm      74097 non-null float32\n",
      "Cloud9am         74097 non-null float32\n",
      "Cloud3pm         74097 non-null float32\n",
      "Temp9am          74097 non-null float32\n",
      "RainToday        74097 non-null int32\n",
      "RISK_MM          74097 non-null float32\n",
      "RainTomorrow     74097 non-null int32\n",
      "year             74097 non-null int32\n",
      "quarter          74097 non-null int32\n",
      "month            74097 non-null int32\n",
      "day              74097 non-null int32\n",
      "dtypes: float32(14), int32(6)\n",
      "memory usage: 6.2 MB\n"
     ]
    }
   ],
   "source": [
    "df.info()"
   ]
  },
  {
   "cell_type": "code",
   "execution_count": 95,
   "metadata": {},
   "outputs": [
    {
     "name": "stdout",
     "output_type": "stream",
     "text": [
      "<class 'pandas.core.frame.DataFrame'>\n",
      "Int64Index: 5000 entries, 4 to 10561\n",
      "Data columns (total 20 columns):\n",
      "MinTemp          5000 non-null float32\n",
      "MaxTemp          5000 non-null float32\n",
      "Rainfall         5000 non-null float32\n",
      "WindGustDir      5000 non-null float32\n",
      "WindGustSpeed    5000 non-null float32\n",
      "WindDir3pm       5000 non-null float32\n",
      "WindSpeed9am     5000 non-null float32\n",
      "WindSpeed3pm     5000 non-null float32\n",
      "Humidity9am      5000 non-null float32\n",
      "Humidity3pm      5000 non-null float32\n",
      "Cloud9am         5000 non-null float32\n",
      "Cloud3pm         5000 non-null float32\n",
      "Temp9am          5000 non-null float32\n",
      "RainToday        5000 non-null int32\n",
      "RISK_MM          5000 non-null float32\n",
      "RainTomorrow     5000 non-null int32\n",
      "year             5000 non-null int32\n",
      "quarter          5000 non-null int32\n",
      "month            5000 non-null int32\n",
      "day              5000 non-null int32\n",
      "dtypes: float32(14), int32(6)\n",
      "memory usage: 429.7 KB\n"
     ]
    }
   ],
   "source": [
    "df = df[:5000][:]\n",
    "df.info()"
   ]
  },
  {
   "cell_type": "code",
   "execution_count": 96,
   "metadata": {},
   "outputs": [],
   "source": [
    "df.to_csv('newRain.csv')"
   ]
  },
  {
   "cell_type": "code",
   "execution_count": null,
   "metadata": {},
   "outputs": [],
   "source": []
  },
  {
   "cell_type": "code",
   "execution_count": null,
   "metadata": {},
   "outputs": [],
   "source": []
  }
 ],
 "metadata": {
  "kernelspec": {
   "display_name": "Python 3",
   "language": "python",
   "name": "python3"
  },
  "language_info": {
   "codemirror_mode": {
    "name": "ipython",
    "version": 3
   },
   "file_extension": ".py",
   "mimetype": "text/x-python",
   "name": "python",
   "nbconvert_exporter": "python",
   "pygments_lexer": "ipython3",
   "version": "3.7.3"
  }
 },
 "nbformat": 4,
 "nbformat_minor": 2
}
